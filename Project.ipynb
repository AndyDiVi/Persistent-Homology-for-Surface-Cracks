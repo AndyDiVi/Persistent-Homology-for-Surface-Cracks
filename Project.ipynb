{
 "cells": [
  {
   "cell_type": "markdown",
   "source": [
    "# PACKAGES"
   ],
   "metadata": {
    "collapsed": false
   }
  },
  {
   "cell_type": "code",
   "execution_count": 3,
   "outputs": [],
   "source": [
    "import numpy as np\n",
    "from numpy import asarray\n",
    "from PIL import Image\n",
    "import os, random\n",
    "\n",
    "import matplotlib.pyplot as plt\n",
    "from ripser import ripser\n",
    "from persim import plot_diagrams\n",
    "\n",
    "\n",
    "from sklearn.metrics import confusion_matrix"
   ],
   "metadata": {
    "collapsed": false,
    "ExecuteTime": {
     "start_time": "2023-08-15T11:54:51.329583Z",
     "end_time": "2023-08-15T11:54:51.354680Z"
    }
   }
  },
  {
   "cell_type": "markdown",
   "source": [
    "# CODE"
   ],
   "metadata": {
    "collapsed": false
   }
  },
  {
   "cell_type": "code",
   "execution_count": 17,
   "outputs": [],
   "source": [
    "\n",
    "def ProcessImages(image_directory, process_every_n=8, thresh=110, padding_size=0, new_size=None, vita=5):\n",
    "\n",
    "    #Creazione della cartella Binarized\n",
    "    binarized_directory = os.path.join(image_directory, \"Binarized\")\n",
    "    if not os.path.exists(binarized_directory):\n",
    "        os.makedirs(binarized_directory)\n",
    "\n",
    "    #Creazione della cartella Padded se specificato un valore di padding\n",
    "    if padding_size > 0:\n",
    "        padded_directory = os.path.join(image_directory, \"Padded\")\n",
    "        if not os.path.exists(padded_directory):\n",
    "            os.makedirs(padded_directory)\n",
    "\n",
    "    #Creazione della cartella Diagrams\n",
    "    diagram_directory = os.path.join(image_directory, \"Diagrams\")\n",
    "    if not os.path.exists(diagram_directory):\n",
    "        os.makedirs(diagram_directory)\n",
    "\n",
    "    #Inizializzo gli array True/Predicted labels che utilizzerò per la matrice\n",
    "    #di confusione\n",
    "    true_labels = []\n",
    "    predicted_labels = []\n",
    "\n",
    "    # Ciclo su ogni elemento della directory in input\n",
    "    for i, filename in enumerate(os.listdir(image_directory)):\n",
    "\n",
    "        # Verifico che l'elemento sia l'immagine corretta\n",
    "        if filename.endswith(\".jpg\") and (i % process_every_n == 0) and filename.endswith(\".jpg\"):\n",
    "            #Apro l'immagine usando PIL e converto in scala di grigi\n",
    "            img = Image.open(os.path.join(image_directory, filename))\n",
    "            img = img.convert('L')\n",
    "            #print(asarray(img))\n",
    "\n",
    "            #Faccio un resize dell'immagine se richiesto in input\n",
    "            if new_size:\n",
    "                img = img.resize(new_size)\n",
    "\n",
    "\n",
    "                                       #BINARIZZAZIONE\n",
    "            #Binarizzo l'immagine secondo il valore di threshold in input\n",
    "            #I pixel assumono valore da 0 (neri) a 255 (bianchi)\n",
    "            binary_img = Image.new('L', img.size)\n",
    "\n",
    "            for i in range(img.size[0]):\n",
    "                for j in range(img.size[1]):\n",
    "                    #Se il pixel ha valore inferiore a thresh gli assegno valore 0\n",
    "                    #Se il pixel ha valore superiore a thresh gli assegno valore 255\n",
    "                    if img.getpixel((i, j)) < thresh:\n",
    "                        binary_img.putpixel((i, j), 0)\n",
    "                    else:\n",
    "                        binary_img.putpixel((i, j), 255)\n",
    "\n",
    "\n",
    "            #print(asarray(binary_img))\n",
    "\n",
    "            #Salvo l'immagine binarizzata nella rispettiva cartella\n",
    "            img = binary_img\n",
    "            binary_img.save(os.path.join(binarized_directory, \"binarized_\" + filename))\n",
    "\n",
    "                                     #AGGIUNTA DI UN BORDO\n",
    "            #Aggiungo un bordo se richiesto in input\n",
    "            if padding_size > 0:\n",
    "                #Size attuale dell'immagine binarizzata\n",
    "                width, height = binary_img.size\n",
    "\n",
    "                #Creo una nuova immagine nera (solo 0) con size desiderata\n",
    "                pad_img = Image.new('L', (width + 2 * padding_size, height + 2 * padding_size), 0)\n",
    "\n",
    "                #Incollo l'immagine originale sulla nuova immagine creata\n",
    "                for i in range(width):\n",
    "                    for j in range(height):\n",
    "                        pixel = img.getpixel((i, j))\n",
    "                        pad_img.putpixel((i + padding_size, j + padding_size), pixel)\n",
    "                #print(asarray(new_img))\n",
    "\n",
    "                #Salvo l'immagine con bordo nella rispettiva cartella\n",
    "                img = pad_img\n",
    "                pad_img.save(os.path.join(padded_directory, \"padded_\" + filename))\n",
    "\n",
    "\n",
    "                                     #OMOLOGIA PERSISTENTE\n",
    "            #Inizializzo la lista dei punti su cui andrò a calcolare la persistenza.\n",
    "            #Ciclo su ogni pixel e memorizzo gli indici i,j dei punti di valore 0 (nero)\n",
    "            #Ciò costituisce il dataset, di cui vogliamo determinare l'omologia persistente\n",
    "            points = []\n",
    "            for i in range(img.size[0]):\n",
    "                for j in range(img.size[1]):\n",
    "                    if img.getpixel((i, j)) == 0:\n",
    "                        points.append((i, j))\n",
    "            #print(points)\n",
    "\n",
    "\n",
    "            #Converto la lista in array perchè ripser non prende in input liste\n",
    "            points = np.array(points)\n",
    "            #Ottenimento dei diagrammi di persistenza fermandomi al primo gruppo di omologia\n",
    "            diagrams = ripser(points, maxdim=1)['dgms']  #coeff2 o meno, il risultato è lo stesso e non so la velocità\n",
    "            #print(diagrams)\n",
    "\n",
    "\n",
    "                           #CRITERIO DISCRIMINATORIO PER CLASSIFICAZIONE\n",
    "            #Inizializzo la variabile \"contatore\"\n",
    "            num_holes = 0\n",
    "            #Considero solo il primo gruppo di omologia persistente\n",
    "            diagrams1 = diagrams[1]\n",
    "            #print(diagrams1)\n",
    "\n",
    "\n",
    "            for i in range(diagrams1.shape[0]):\n",
    "                #Determino la differenza tra morte e vita di ogni elemento\n",
    "                diff = diagrams1[i][1] - diagrams1[i][0]\n",
    "                #Se la differenza è maggiore del tempo di vita in input, aumento il contatore\n",
    "                #Tengo conto del numero di H1 che presentano lunga vita\n",
    "                if diff > vita:\n",
    "                    num_holes += 1\n",
    "                    #print(diagrams1[i][1], diagrams1[i][0], diff)\n",
    "            #print(num_holes)\n",
    "\n",
    "\n",
    "                          #GRAFICI DIAGRAMMI DI PERSISTENZA\n",
    "\n",
    "            plot_diagrams(diagrams, show=False)\n",
    "            #Aggiungo la retta y=x+vita per evidenziare meglio la soglia di discriminazione\n",
    "            x = np.linspace(-10, max(points.max(0))+10, 100)\n",
    "            y = x+vita\n",
    "            plt.plot(x, y, c='red', label='y=x+'+str(vita))\n",
    "\n",
    "            plt.legend()\n",
    "            plt.savefig(os.path.join(diagram_directory, f\"{filename.split('.')[0]}.png\"))\n",
    "            plt.clf()\n",
    "\n",
    "                              #CLASSIFICAZIONE\n",
    "            #Assegno le etichette reali\n",
    "            #Se l'immagine è nella cartella \"Positive\" assegno valore 1\n",
    "            true_label = 1 if \"Positive\" in image_directory else 0\n",
    "            true_labels.append(true_label)\n",
    "\n",
    "            #Assegno le etichette predette\n",
    "            #Se presenta almeno 2 gruppi H1 di lunga vita, almeno due buchi persistenti\n",
    "            #predico ci sia una crepa e assegno 1\n",
    "            predicted_label = 1 if num_holes >= 2 else 0\n",
    "            predicted_labels.append(predicted_label)\n",
    "\n",
    "            #Stampo il nome delle immagini che sono falsi negativi/positivi\n",
    "            if \"Positive\" in image_directory and num_holes < 2:\n",
    "                print(f\"{filename} è un falso negativo\")\n",
    "            if \"Negative\" in image_directory and num_holes >= 2:\n",
    "                print(f\"{filename} è un falso positivo\")\n",
    "\n",
    "    return true_labels, predicted_labels"
   ],
   "metadata": {
    "collapsed": false,
    "ExecuteTime": {
     "start_time": "2023-08-15T12:01:14.851775Z",
     "end_time": "2023-08-15T12:01:14.877218Z"
    }
   }
  },
  {
   "cell_type": "markdown",
   "source": [
    "# TO RANDOMIZE PREVIOUS CODE (OPTIONAL, used for cross validation)"
   ],
   "metadata": {
    "collapsed": false
   }
  },
  {
   "cell_type": "code",
   "execution_count": null,
   "outputs": [],
   "source": [
    "#TO RANDOMIZE THE PREVIOUS CODE JUST RUN THIS INSTEAD OF LINES 26-32\n",
    "    # Creo una lista di tutti i file immagine nella directory che soddisfano la condizione i%8!=0\n",
    "    filenames = [filename for i, filename in enumerate(os.listdir(image_directory)) if filename.endswith(\".jpg\") and (i% process_every_n!=0)]\n",
    "\n",
    "    # Se ci sono meno di 2500 immagini nella lista, considero tutte le immagini\n",
    "    if len(filenames) < 2500:\n",
    "        selected_filenames = filenames\n",
    "    else:\n",
    "        # Altrimenti seleziono casualmente 2500 immagini dalla lista\n",
    "        selected_filenames = random.sample(filenames, 2500)\n",
    "    # Ciclo su ogni elemento selezionato della directory in input\n",
    "    for filename in selected_filenames:\n",
    "        # Apro l'immagine usando PIL e converto in scala di grigi\n",
    "        img = Image.open(os.path.join(image_directory, filename))\n",
    "        img = img.convert('L')\n"
   ],
   "metadata": {
    "collapsed": false
   }
  },
  {
   "cell_type": "markdown",
   "source": [
    "# RUNNING CODE"
   ],
   "metadata": {
    "collapsed": false
   }
  },
  {
   "cell_type": "code",
   "execution_count": 18,
   "outputs": [
    {
     "name": "stdout",
     "output_type": "stream",
     "text": [
      "05001.jpg è un falso negativo\n",
      "[[4 0]\n",
      " [1 3]]\n"
     ]
    },
    {
     "data": {
      "text/plain": "<Figure size 640x480 with 0 Axes>"
     },
     "metadata": {},
     "output_type": "display_data"
    }
   ],
   "source": [
    "#Definisco le cartelle da cui prendere le immagini\n",
    "positive_img_dir = \"Positive\"\n",
    "negative_img_dir = \"Negative\"\n",
    "\n",
    "#Definisco gli array con le etichette reali e predette\n",
    "#Li riempirò con i risultati sia delle immagini positive che negative\n",
    "total_true_labels=[]\n",
    "total_predicted_labels=[]\n",
    "\n",
    "process_every_n=5000\n",
    "thresh=110\n",
    "padding_size=1\n",
    "new_size=(48, 48)\n",
    "vita=8\n",
    "                      #POSITIVE\n",
    "#Chiamo la funzione ProcessImages con la cartella delle crepe\n",
    "positive_true_labels, positive_predicted_labels = ProcessImages(positive_img_dir,process_every_n, thresh, padding_size, new_size, vita)\n",
    "#Aggiungo agli array inizializzati precedentemente i valori appena ottenuti\n",
    "total_true_labels.extend(positive_true_labels)\n",
    "total_predicted_labels.extend(positive_predicted_labels)\n",
    "\n",
    "                      #NEGATIVE\n",
    "#Chiamo la funzione ProcessImages con la cartella delle non crepe\n",
    "negative_true_labels, negative_predicted_labels = ProcessImages(negative_img_dir,process_every_n, thresh, padding_size, new_size, vita)\n",
    "#Aggiungo agli array inizializzati precedentemente i valori appena ottenuti\n",
    "total_true_labels.extend(negative_true_labels)\n",
    "total_predicted_labels.extend(negative_predicted_labels)\n",
    "\n",
    "                  #MATRICE DI CONFUSIONE\n",
    "#Calcolo la matrice di confusione mettendo in input le etichette predette e le etichette reali\n",
    "#Per tutte le immagini, positive e negative\n",
    "cm = confusion_matrix(total_true_labels, total_predicted_labels)\n",
    "print(cm)"
   ],
   "metadata": {
    "collapsed": false,
    "ExecuteTime": {
     "start_time": "2023-08-15T12:01:18.096646Z",
     "end_time": "2023-08-15T12:01:21.652176Z"
    }
   }
  },
  {
   "cell_type": "code",
   "execution_count": 19,
   "outputs": [
    {
     "data": {
      "text/plain": "<Figure size 640x480 with 2 Axes>",
      "image/png": "[encoded data removed]"
     },
     "metadata": {},
     "output_type": "display_data"
    }
   ],
   "source": [
    "#Estraggo dalla matrice di confusione il numero di veri positivi/negativi e falsi positivi/negativi\n",
    "true_pos = cm[1, 1]\n",
    "true_neg = cm[0, 0]\n",
    "false_pos = cm[0, 1]\n",
    "false_neg = cm[1, 0]\n",
    "#Calcolo l'errore sulle predizioni\n",
    "error = (false_pos + false_neg) / (true_pos + true_neg + false_pos + false_neg)\n",
    "\n",
    "\n",
    "\n",
    "                      #RAPPRESENTO GRAFICAMENTE LA MATRICE DI CONFUSIONE\n",
    "\n",
    "fig, ax = plt.subplots()\n",
    "im = ax.imshow(cm, cmap='Oranges')\n",
    "\n",
    "#Imposto gli assi\n",
    "ax.set_xticks(np.arange(len(cm)))\n",
    "ax.set_yticks(np.arange(len(cm)))\n",
    "ax.set_xticklabels(['Predicted Negative', 'Predicted Positive'])\n",
    "ax.set_yticklabels(['True Negative', 'True Positive'])\n",
    "\n",
    "# loop over data and add cell values to plot\n",
    "for i in range(len(cm)):\n",
    "    for j in range(len(cm)):\n",
    "        text = ax.text(j, i, cm[i, j], ha='center', va='center', color='black')\n",
    "\n",
    "#Imposto un titolo, aggiungo colorbar e salvo\n",
    "ax.set_title(f'Matrice di Confusione\\nErrore: {error:.4f}')\n",
    "cbar = ax.figure.colorbar(im, ax=ax)\n",
    "plt.savefig('confusion_matrix.jpg')\n",
    "plt.show()\n"
   ],
   "metadata": {
    "collapsed": false,
    "ExecuteTime": {
     "start_time": "2023-08-15T12:01:21.672304Z",
     "end_time": "2023-08-15T12:01:21.965081Z"
    }
   }
  },
  {
   "cell_type": "code",
   "execution_count": null,
   "outputs": [],
   "source": [],
   "metadata": {
    "collapsed": false
   }
  }
 ],
 "metadata": {
  "kernelspec": {
   "display_name": "Python 3",
   "language": "python",
   "name": "python3"
  },
  "language_info": {
   "codemirror_mode": {
    "name": "ipython",
    "version": 2
   },
   "file_extension": ".py",
   "mimetype": "text/x-python",
   "name": "python",
   "nbconvert_exporter": "python",
   "pygments_lexer": "ipython2",
   "version": "2.7.6"
  }
 },
 "nbformat": 4,
 "nbformat_minor": 0
}
