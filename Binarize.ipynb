{
 "cells": [
  {
   "cell_type": "markdown",
   "source": [
    "# PACKAGES"
   ],
   "metadata": {
    "collapsed": false
   }
  },
  {
   "cell_type": "code",
   "execution_count": 2,
   "outputs": [],
   "source": [
    "import numpy as np\n",
    "from numpy import asarray\n",
    "from PIL import Image\n",
    "import os, random\n",
    "\n",
    "import matplotlib.pyplot as plt\n",
    "from ripser import ripser\n",
    "from persim import plot_diagrams\n",
    "\n",
    "\n",
    "from sklearn.metrics import confusion_matrix"
   ],
   "metadata": {
    "collapsed": false,
    "ExecuteTime": {
     "start_time": "2023-08-15T11:27:57.967544Z",
     "end_time": "2023-08-15T11:27:59.924551Z"
    }
   }
  },
  {
   "cell_type": "markdown",
   "source": [
    "# BINARIZATION TEST"
   ],
   "metadata": {
    "collapsed": false
   }
  },
  {
   "cell_type": "code",
   "execution_count": 11,
   "outputs": [],
   "source": [
    "def BinarizeImg(image_directory):\n",
    "\n",
    "    # create the \"Binarized\" folder if it doesn't exist\n",
    "    binarized_directory = os.path.join(image_directory, \"Binarized\")\n",
    "    if not os.path.exists(binarized_directory):\n",
    "        os.makedirs(binarized_directory)\n",
    "\n",
    "    # loop through each file in the directory\n",
    "    for i, filename in enumerate(os.listdir(image_directory)):\n",
    "\n",
    "        # check if the file is an image and if it's the 10th image\n",
    "        if (filename.endswith(\".jpg\")) and (i % 8 == 0) and filename.endswith(\"07009.jpg\"):\n",
    "\n",
    "            # open the image using PIL\n",
    "            img = Image.open(os.path.join(image_directory, filename))\n",
    "\n",
    "            # convert the image to grayscale\n",
    "            img = img.convert('L')\n",
    "\n",
    "            #BIN 128 - ARRAY MODE\n",
    "            # binarize the image\n",
    "            #img_array = np.array(img) #array ogni casella è un pixel\n",
    "            #binary_array = np.where(img_array < 128, 0, 255) #alzare o dimunuire threshold?\n",
    "            #img = Image.fromarray(binary_array.astype(np.uint8))\n",
    "\n",
    "\n",
    "            # create a new image with the same size as the original image\n",
    "            binary_img = Image.new('L', img.size)\n",
    "\n",
    "            #BIN 128 - FOR MODE\n",
    "            # binarize the image\n",
    "            for i in range(img.size[0]):\n",
    "                for j in range(img.size[1]):\n",
    "                    if img.getpixel((i, j)) < 128:\n",
    "                        binary_img.putpixel((i, j), 0)\n",
    "                    else:\n",
    "                        binary_img.putpixel((i, j), 255)\n",
    "\n",
    "\n",
    "            # save the binarized image\n",
    "            #img.save(os.path.join(image_directory+\"/Binarized\", \"binarized_\" + filename))\n",
    "            binary_img.save(os.path.join(image_directory+\"/Binarized\", filename[:-4] + \"_binarized.jpg\"))\n",
    "\n",
    "\n",
    "            #BIN 110\n",
    "            # create a new image with the same size as the original image\n",
    "            binary_img2 = Image.new('L', img.size)\n",
    "\n",
    "            # binarize the image\n",
    "            for i in range(img.size[0]):\n",
    "                for j in range(img.size[1]):\n",
    "                    if img.getpixel((i, j)) < 110:\n",
    "                        binary_img2.putpixel((i, j), 0)\n",
    "                    else:\n",
    "                        binary_img2.putpixel((i, j), 255)\n",
    "\n",
    "            # save the binarized image\n",
    "            #img.save(os.path.join(image_directory+\"/Binarized\", \"binarized_\" + filename))\n",
    "            binary_img2.save(os.path.join(image_directory+\"/Binarized\", filename[:-4] + \"_binarized2.jpg\" ))\n",
    "\n",
    "\n",
    "            #BIN AVG NEIGH\n",
    "            # binarize the image using neighborhood mean as threshold\n",
    "            neigh=25\n",
    "            for j in range(10):\n",
    "                img_array = np.array(img)\n",
    "                height, width = img_array.shape\n",
    "                binary_array = np.zeros((height, width), dtype=np.uint8)\n",
    "                padded_array = np.pad(img_array, ((neigh,neigh),(neigh, neigh)), mode='constant', constant_values=0)\n",
    "                for k in range(neigh, height+neigh):\n",
    "                    for l in range(neigh, width+neigh):\n",
    "                        threshold = int(np.mean(padded_array[k-neigh:k+neigh, l-neigh:l+neigh]))\n",
    "                        binary_array[k-neigh, l-neigh] = 0 if img_array[k-neigh, l-neigh] < threshold else 255\n",
    "                # create a new PIL image from the binary array\n",
    "                binary_img3= Image.fromarray(binary_array)\n",
    "\n",
    "                # save the final binarized image\n",
    "                binary_img3.save(os.path.join(binarized_directory, filename[:-4] + \"_binarized3.jpg\"))\n",
    "\n",
    "\n",
    "            #BIN AVG\n",
    "            # binarize the image\n",
    "            img_array = np.array(img)\n",
    "            threshold = np.mean(img_array)\n",
    "            binary_array = np.where(img_array < threshold, 0, 255)\n",
    "\n",
    "            binary_img4 = Image.fromarray(binary_array.astype(np.uint8))\n",
    "\n",
    "            # save the final binarized image\n",
    "            binary_img4.save(os.path.join(binarized_directory, filename[:-4] + \"_binarized4.jpg\"))"
   ],
   "metadata": {
    "collapsed": false,
    "ExecuteTime": {
     "start_time": "2023-08-15T11:44:19.639772Z",
     "end_time": "2023-08-15T11:44:19.695077Z"
    }
   }
  },
  {
   "cell_type": "code",
   "execution_count": 12,
   "outputs": [],
   "source": [
    "# set directory containing the images\n",
    "positive_img_dir = \"Positive\"\n",
    "negative_img_dir = \"Negative\"\n",
    "\n",
    "#Binarize the positive and negative images\n",
    "BinarizeImg(positive_img_dir)\n",
    "BinarizeImg(negative_img_dir)"
   ],
   "metadata": {
    "collapsed": false,
    "ExecuteTime": {
     "start_time": "2023-08-15T11:44:22.222477Z",
     "end_time": "2023-08-15T11:44:52.055154Z"
    }
   }
  },
  {
   "cell_type": "markdown",
   "source": [
    "# PADDING"
   ],
   "metadata": {
    "collapsed": false
   }
  },
  {
   "cell_type": "code",
   "execution_count": 13,
   "outputs": [],
   "source": [
    "def PaddingImg(image_directory, padding_size):\n",
    "\n",
    "    # create a directory for the padded images if it doesn't exist\n",
    "    padded_directory = os.path.join(image_directory, \"Padded\")\n",
    "    if not os.path.exists(padded_directory):\n",
    "        os.makedirs(padded_directory)\n",
    "\n",
    "    # loop through each file in the directory\n",
    "    for filename in os.listdir(image_directory):\n",
    "\n",
    "        # check if the file is an image\n",
    "        if filename.endswith(\".jpg\") or filename.endswith(\".jpeg\") or filename.endswith(\".png\"):\n",
    "\n",
    "            # open the image using PIL\n",
    "            img = Image.open(os.path.join(image_directory, filename))\n",
    "\n",
    "            # convert the image to a NumPy array\n",
    "            img_array = np.array(img)\n",
    "\n",
    "            # get the current image size\n",
    "            #height, width, depth = img_array.shape\n",
    "            height, width = img_array.shape\n",
    "\n",
    "            # create a new NumPy array with the desired size and fill with 0 (black)\n",
    "            #new_img_array = np.zeros((height + 2 * padding_size, width + 2 * padding_size, depth), dtype=np.uint8)\n",
    "            new_img_array = np.zeros((height + 2 * padding_size, width + 2 * padding_size), dtype=np.uint8)\n",
    "\n",
    "            # paste the original image in the center of the new image\n",
    "            new_img_array[padding_size:padding_size + height, padding_size:padding_size + width] = img_array\n",
    "\n",
    "            # convert the NumPy array back to a Pillow image object\n",
    "            new_img = Image.fromarray(new_img_array)\n",
    "\n",
    "            # save the padded image\n",
    "            new_img.save(os.path.join(padded_directory, \"padded_\" + filename))\n",
    "\n",
    "        else:\n",
    "            print(\"Errore! \" + filename + \" non è un'immagine\")"
   ],
   "metadata": {
    "collapsed": false,
    "ExecuteTime": {
     "start_time": "2023-08-15T11:48:37.935229Z",
     "end_time": "2023-08-15T11:48:37.956950Z"
    }
   }
  },
  {
   "cell_type": "code",
   "execution_count": 15,
   "outputs": [
    {
     "name": "stdout",
     "output_type": "stream",
     "text": [
      "Errore! Padded non è un'immagine\n",
      "Errore! Padded non è un'immagine\n"
     ]
    }
   ],
   "source": [
    "# set directory containing the images\n",
    "positive_img_dir = \"Positive/Binarized\"\n",
    "negative_img_dir = \"Negative/Binarized\"\n",
    "#Padding the positive and negative images\n",
    "PaddingImg(positive_img_dir, 1)\n",
    "PaddingImg(negative_img_dir, 1)"
   ],
   "metadata": {
    "collapsed": false,
    "ExecuteTime": {
     "start_time": "2023-08-15T11:49:40.566391Z",
     "end_time": "2023-08-15T11:49:40.734431Z"
    }
   }
  },
  {
   "cell_type": "code",
   "execution_count": null,
   "outputs": [],
   "source": [
    "# PERSISTENCE DIAGRAM ON SINGLE IMG TEST"
   ],
   "metadata": {
    "collapsed": false
   }
  },
  {
   "cell_type": "code",
   "execution_count": null,
   "outputs": [],
   "source": [
    "import matplotlib.pyplot as plt\n",
    "\n",
    "# path to the image\n",
    "image_path = 'Positive/Binarized/Padded/padded_binarized_07009.jpg'\n",
    "\n",
    "# process the image\n",
    "img = Image.open(image_path)\n",
    "points = []\n",
    "for i in range(img.size[0]):\n",
    "    for j in range(img.size[1]):\n",
    "        if img.getpixel((i, j)) == 0:\n",
    "            points.append((i, j))\n",
    "\n",
    "points = np.array(points)  # Convert to numpy array\n",
    "diagrams = ripser(points, coeff=2, maxdim=1)['dgms']\n",
    "print(diagrams)\n",
    "\n",
    "plot_diagrams(diagrams, show=True)\n",
    "plt.legend()\n",
    "plt.clf()"
   ],
   "metadata": {
    "collapsed": false
   }
  }
 ],
 "metadata": {
  "kernelspec": {
   "display_name": "Python 3",
   "language": "python",
   "name": "python3"
  },
  "language_info": {
   "codemirror_mode": {
    "name": "ipython",
    "version": 2
   },
   "file_extension": ".py",
   "mimetype": "text/x-python",
   "name": "python",
   "nbconvert_exporter": "python",
   "pygments_lexer": "ipython2",
   "version": "2.7.6"
  }
 },
 "nbformat": 4,
 "nbformat_minor": 0
}
